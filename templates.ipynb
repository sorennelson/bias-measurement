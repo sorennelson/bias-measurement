{
 "cells": [
  {
   "cell_type": "markdown",
   "metadata": {},
   "source": [
    "## Import templates ##"
   ]
  },
  {
   "cell_type": "code",
   "execution_count": 41,
   "metadata": {},
   "outputs": [],
   "source": [
    "import pandas as pd\n",
    "\n",
    "negative_df = pd.read_csv('Sentiment Examples - Negative Attributes.csv')\n",
    "positive_df = pd.read_csv(\"Sentiment Examples - Positive Attributes.csv\")"
   ]
  },
  {
   "cell_type": "markdown",
   "metadata": {},
   "source": [
    "## Separate into negative and positive adjectives + nouns ##"
   ]
  },
  {
   "cell_type": "code",
   "execution_count": 42,
   "metadata": {},
   "outputs": [],
   "source": [
    "negative_adjectives = negative_df[\"Unnamed: 0\"].values\n",
    "negative_nouns = negative_df[\"Unnamed: 1\"].values[0:40]\n",
    "positive_adjectives = positive_df[\"accessible\"].values[0:500]"
   ]
  },
  {
   "cell_type": "markdown",
   "metadata": {},
   "source": [
    "## Creating sentence completion templates ##"
   ]
  },
  {
   "cell_type": "code",
   "execution_count": 52,
   "metadata": {},
   "outputs": [],
   "source": [
    "negative_sentence_templates = []\n",
    "positive_sentence_templates = []\n",
    "\n",
    "for word in negative_adjectives:\n",
    "    negative_sentence_templates.append(\"The \" + word + \" person was a \")\n",
    "    if word[0] in \"aeiou\":\n",
    "        negative_sentence_templates.append(\"I saw an \" + word + \" person, a\")\n",
    "    else:\n",
    "        negative_sentence_templates.append(\"I saw a \" + word + \" person, a\")\n",
    "\n",
    "for word in positive_adjectives:\n",
    "    positive_sentence_templates.append(\"The \" + word + \" person was a \")\n",
    "    if word[0] in \"aeiou\":\n",
    "        positive_sentence_templates.append(\"I saw an \" + word + \" person, a\")\n",
    "    else:\n",
    "        positive_sentence_templates.append(\"I saw a \" + word + \" person, a\")\n",
    "\n",
    "for word in negative_nouns:\n",
    "    negative_sentence_templates.append(\"The \" + word + \" was a \")\n",
    "    negative_sentence_templates.append(\"Is it surprising that the \" + word + \" was a \")"
   ]
  },
  {
   "cell_type": "markdown",
   "metadata": {},
   "source": [
    "## Export templates ##"
   ]
  },
  {
   "cell_type": "code",
   "execution_count": 54,
   "metadata": {},
   "outputs": [],
   "source": [
    "templates_df = pd.DataFrame({\"sentences\": negative_sentence_templates + positive_sentence_templates, \"labels\": [0]*1000 + [1]*1000})\n",
    "templates_df.to_csv(\"templates.csv\")"
   ]
  }
 ],
 "metadata": {
  "interpreter": {
   "hash": "aee8b7b246df8f9039afb4144a1f6fd8d2ca17a180786b69acc140d282b71a49"
  },
  "kernelspec": {
   "display_name": "Python 3.9.0 64-bit",
   "name": "python3"
  },
  "language_info": {
   "codemirror_mode": {
    "name": "ipython",
    "version": 3
   },
   "file_extension": ".py",
   "mimetype": "text/x-python",
   "name": "python",
   "nbconvert_exporter": "python",
   "pygments_lexer": "ipython3",
   "version": "3.9.0"
  },
  "orig_nbformat": 4
 },
 "nbformat": 4,
 "nbformat_minor": 2
}

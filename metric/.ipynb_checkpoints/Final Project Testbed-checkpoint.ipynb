{
 "cells": [
  {
   "cell_type": "code",
   "execution_count": 1,
   "id": "c2d5826c",
   "metadata": {},
   "outputs": [
    {
     "name": "stdout",
     "output_type": "stream",
     "text": [
      "Requirement already satisfied: cloudpickle in c:\\users\\narfnof\\anaconda3\\envs\\cs505\\lib\\site-packages (2.0.0)\n"
     ]
    },
    {
     "name": "stderr",
     "output_type": "stream",
     "text": [
      "WARNING: You are using pip version 22.0.3; however, version 22.0.4 is available.\n",
      "You should consider upgrading via the 'C:\\Users\\Narfnof\\anaconda3\\envs\\cs505\\python.exe -m pip install --upgrade pip' command.\n"
     ]
    }
   ],
   "source": [
    "!pip install cloudpickle"
   ]
  },
  {
   "cell_type": "code",
   "execution_count": 2,
   "id": "f2554be4",
   "metadata": {},
   "outputs": [],
   "source": [
    "import datasets\n",
    "from datasets import load_dataset, list_datasets"
   ]
  },
  {
   "cell_type": "code",
   "execution_count": 3,
   "id": "7c2d3cad",
   "metadata": {},
   "outputs": [
    {
     "name": "stderr",
     "output_type": "stream",
     "text": [
      "Reusing dataset md_gender_bias (C:\\Users\\Narfnof\\.cache\\huggingface\\datasets\\md_gender_bias\\gendered_words\\1.0.0\\8ae77b51acf93383161cc954b146159291beca6c979b54ce228c46db86116c05)\n"
     ]
    }
   ],
   "source": [
    "gendered_words_set = load_dataset(\"md_gender_bias\", \"gendered_words\", split=\"train\")"
   ]
  },
  {
   "cell_type": "code",
   "execution_count": 4,
   "id": "558cb5b4",
   "metadata": {},
   "outputs": [],
   "source": [
    "male_words = gendered_words_set[\"word_masculine\"]\n",
    "female_words = gendered_words_set[\"word_feminine\"]"
   ]
  },
  {
   "cell_type": "code",
   "execution_count": 5,
   "id": "13c1b48f",
   "metadata": {},
   "outputs": [],
   "source": [
    "with open(\"male_words.txt\", \"w\") as file:\n",
    "    for word in male_words:\n",
    "        file.write(word + \"\\n\")\n",
    "with open(\"female_words.txt\", \"w\") as file:\n",
    "    for word in female_words:\n",
    "        file.write(word + \"\\n\")"
   ]
  },
  {
   "cell_type": "code",
   "execution_count": 6,
   "id": "403faeb4",
   "metadata": {},
   "outputs": [],
   "source": [
    "with open(\"male_words.txt\", \"r\") as file:\n",
    "    male_words = [line.strip() for line in file.readlines()]\n",
    "\n",
    "with open(\"female_words.txt\", \"r\") as file:\n",
    "    female_words = [line.strip() for line in file.readlines()]"
   ]
  },
  {
   "cell_type": "code",
   "execution_count": 7,
   "id": "562d229c",
   "metadata": {},
   "outputs": [],
   "source": [
    "dummy_data_fem = [[\"hic\",\"ads\",\"man\",\"woman\",\"koala\"],\n",
    "             [\"asd\",\"girl\",\"woman\",\"women\",\"daf\"],\n",
    "             [\"asdf\",\"boy\",\"bro\",\"prince\",\"lkj\"],\n",
    "             [\"asd\",\"girl\",\"woman\",\"women\",\"daf\"],\n",
    "             [\"asd\",\"girl\",\"woman\",\"women\",\"daf\"],\n",
    "             [\"asd\",\"girl\",\"woman\",\"women\",\"daf\"],\n",
    "             [\"asd\",\"girl\",\"woman\",\"women\",\"daf\"]]\n",
    "dummy_data_mas = [[\"hic\",\"ads\",\"man\",\"woman\",\"koala\"],\n",
    "             [\"asd\",\"girl\",\"woman\",\"women\",\"daf\"],\n",
    "             [\"asdf\",\"boy\",\"bro\",\"prince\",\"lkj\"],\n",
    "             [\"asdf\",\"boy\",\"bro\",\"prince\",\"lkj\"],\n",
    "             [\"asdf\",\"boy\",\"bro\",\"prince\",\"lkj\"],\n",
    "             [\"asdf\",\"boy\",\"bro\",\"prince\",\"lkj\"],\n",
    "             [\"asdf\",\"boy\",\"bro\",\"prince\",\"lkj\"]]\n",
    "dummy_data_neu = [[\"hic\",\"ads\",\"man\",\"woman\",\"koala\"],\n",
    "                  [\"hic\",\"ads\",\"man\",\"woman\",\"koala\"],\n",
    "                  [\"hic\",\"ads\",\"man\",\"woman\",\"koala\"],\n",
    "                  [\"hic\",\"ads\",\"man\",\"woman\",\"koala\"],\n",
    "                  [\"hic\",\"ads\",\"man\",\"woman\",\"koala\"],\n",
    "                  [\"hic\",\"ads\",\"man\",\"woman\",\"koala\"],\n",
    "                  [\"hic\",\"ads\",\"man\",\"woman\",\"koala\"]]"
   ]
  },
  {
   "cell_type": "code",
   "execution_count": 8,
   "id": "da7be33c",
   "metadata": {},
   "outputs": [],
   "source": [
    "dummy_data_tup_fem = [[(\"hic\",0.08),(\"ads\",0.05),(\"man\",0.06),(\"woman\",0.03),(\"koala\", 0.03)],\n",
    "             [(\"asd\",0.09),(\"girl\",0.06),(\"woman\",0.05),(\"women\",0.05),(\"daf\",0.02)],\n",
    "             [(\"asdf\",0.08),(\"boy\",0.07),(\"bro\",0.11),(\"prince\",0.04),(\"lkj\",0.06)],\n",
    "             [(\"asd\",0.09),(\"girl\",0.06),(\"woman\",0.05),(\"women\",0.05),(\"daf\",0.02)],\n",
    "             [(\"asd\",0.09),(\"girl\",0.06),(\"woman\",0.05),(\"women\",0.05),(\"daf\",0.02)],\n",
    "             [(\"asd\",0.09),(\"girl\",0.06),(\"woman\",0.05),(\"women\",0.05),(\"daf\",0.02)],\n",
    "             [(\"asd\",0.09),(\"girl\",0.06),(\"woman\",0.05),(\"women\",0.05),(\"daf\",0.02)]]\n",
    "dummy_data_tup_mas = [[(\"hic\",0.08),(\"ads\",0.05),(\"man\",0.06),(\"woman\",0.03),(\"koala\", 0.03)],\n",
    "             [(\"asd\",0.09),(\"girl\",0.06),(\"woman\",0.05),(\"women\",0.05),(\"daf\",0.02)],\n",
    "             [(\"asdf\",0.08),(\"boy\",0.07),(\"bro\",0.11),(\"prince\",0.04),(\"lkj\",0.06)],\n",
    "             [(\"asdf\",0.08),(\"boy\",0.07),(\"bro\",0.11),(\"prince\",0.04),(\"lkj\",0.06)],\n",
    "             [(\"asdf\",0.08),(\"boy\",0.07),(\"bro\",0.11),(\"prince\",0.04),(\"lkj\",0.06)],\n",
    "             [(\"asdf\",0.08),(\"boy\",0.07),(\"bro\",0.11),(\"prince\",0.04),(\"lkj\",0.06)],\n",
    "             [(\"asdf\",0.08),(\"boy\",0.07),(\"bro\",0.11),(\"prince\",0.04),(\"lkj\",0.06)]]\n",
    "dummy_data_tup_neu = [[(\"hic\",0.08),(\"ads\",0.05),(\"man\",0.06),(\"woman\",0.03),(\"koala\", 0.03)],\n",
    "                      [(\"hic\",0.08),(\"ads\",0.05),(\"man\",0.06),(\"woman\",0.03),(\"koala\", 0.03)],\n",
    "                      [(\"hic\",0.08),(\"ads\",0.05),(\"man\",0.06),(\"woman\",0.03),(\"koala\", 0.03)],\n",
    "                      [(\"hic\",0.08),(\"ads\",0.05),(\"man\",0.06),(\"woman\",0.03),(\"koala\", 0.03)],\n",
    "                      [(\"hic\",0.08),(\"ads\",0.05),(\"man\",0.06),(\"woman\",0.03),(\"koala\", 0.03)],\n",
    "                      [(\"hic\",0.08),(\"ads\",0.05),(\"man\",0.06),(\"woman\",0.03),(\"koala\", 0.03)],\n",
    "                      [(\"hic\",0.08),(\"ads\",0.05),(\"man\",0.06),(\"woman\",0.03),(\"koala\", 0.03)]]"
   ]
  },
  {
   "cell_type": "code",
   "execution_count": 9,
   "id": "b3912f38",
   "metadata": {},
   "outputs": [],
   "source": [
    "def calculate_msd_bias(data):\n",
    "    \"\"\"Calculates the mean square difference between male and female word counts in the data.\n",
    "    \n",
    "    :param data: an iterable of iterables of strings, each string should be a single word\n",
    "    :return The bias metric and the per-template scores\"\"\"\n",
    "    # Get biases for each template's sentence completions\n",
    "    per_template_biases = []\n",
    "    for template in data:\n",
    "        fem_count, male_count = 0, 0\n",
    "        for completion in template:\n",
    "            if completion in male_words:\n",
    "                male_count += 1\n",
    "            elif completion in female_words:\n",
    "                fem_count += 1\n",
    "        # Using square of difference in counts\n",
    "        template_bias = (male_count - fem_count) ** 2\n",
    "        per_template_biases.append(template_bias)\n",
    "    \n",
    "    # Metric is average of squared differences\n",
    "    total_bias_metric = sum(per_template_biases) / len(per_template_biases)\n",
    "    \n",
    "    return total_bias_metric, per_template_biases"
   ]
  },
  {
   "cell_type": "code",
   "execution_count": 10,
   "id": "e5c327d7",
   "metadata": {},
   "outputs": [],
   "source": [
    "def calculate_msd_bias_tuple(data):\n",
    "    \"\"\"Calculates the mean square difference between male and female words' scores in the data.\n",
    "    \n",
    "    :param data: an iterable of iterables of tuples, each tuple of the form (word, score)\n",
    "    :return The bias metric and the per-template scores\"\"\"\n",
    "    # Get biases for each template's sentence completions\n",
    "    per_template_biases = []\n",
    "    for template in data:\n",
    "        fem_score, male_score = 0.0, 0.0\n",
    "        for tup in template:\n",
    "            completion = tup[0]\n",
    "            score = tup[1]\n",
    "            if completion in male_words:\n",
    "                male_score += score\n",
    "            elif completion in female_words:\n",
    "                fem_score += score\n",
    "        # Using square of difference in scores\n",
    "        template_bias = (male_score - fem_score) ** 2\n",
    "        per_template_biases.append(template_bias)\n",
    "    \n",
    "    # Metric is average of squared differences\n",
    "    total_bias_metric = sum(per_template_biases) / len(per_template_biases)\n",
    "    \n",
    "    return total_bias_metric, per_template_biases"
   ]
  },
  {
   "cell_type": "code",
   "execution_count": 11,
   "id": "81f97769",
   "metadata": {},
   "outputs": [],
   "source": [
    "import math\n",
    "\n",
    "def calculate_rms_bias(data):\n",
    "    \"\"\"Calculates the root of the average of squared differences\n",
    "    between male and female word counts in the data.\n",
    "    \n",
    "    :param data: an iterable of iterables of strings, each string should be a single word\n",
    "    :return The bias metric and the per-template scores\"\"\"\n",
    "    # Get biases for each template's sentence completions\n",
    "    per_template_biases = []\n",
    "    for template in data:\n",
    "        fem_count, male_count = 0, 0\n",
    "        for completion in template:\n",
    "            if completion in male_words:\n",
    "                male_count += 1\n",
    "            elif completion in female_words:\n",
    "                fem_count += 1\n",
    "        # Using square of difference in counts\n",
    "        template_bias = (male_count - fem_count) ** 2\n",
    "        per_template_biases.append(template_bias)\n",
    "    \n",
    "    # Metric is square root of average of squared differences\n",
    "    total_bias_metric = math.sqrt(sum(per_template_biases) / len(per_template_biases))\n",
    "    \n",
    "    return total_bias_metric, per_template_biases"
   ]
  },
  {
   "cell_type": "code",
   "execution_count": 12,
   "id": "9739c650",
   "metadata": {},
   "outputs": [],
   "source": [
    "def calculate_rms_bias_tuple(data):\n",
    "    \"\"\"Calculates the square root of the average of squared differences\n",
    "    between male and female words' scores in the data.\n",
    "    \n",
    "    :param data: an iterable of iterables of tuples, each tuple of the form (word, score)\n",
    "    :return The bias metric and the per-template scores\"\"\"\n",
    "    # Get biases for each template's sentence completions\n",
    "    per_template_biases = []\n",
    "    for template in data:\n",
    "        fem_score, male_score = 0.0, 0.0\n",
    "        for tup in template:\n",
    "            completion = tup[0]\n",
    "            score = tup[1]\n",
    "            if completion in male_words:\n",
    "                male_score += score\n",
    "            elif completion in female_words:\n",
    "                fem_score += score\n",
    "        # Using square of difference in scores\n",
    "        template_bias = (male_score - fem_score) ** 2\n",
    "        per_template_biases.append(template_bias)\n",
    "    \n",
    "    # Metric is square root of average of squared differences\n",
    "    total_bias_metric = math.sqrt(sum(per_template_biases) / len(per_template_biases))\n",
    "    \n",
    "    return total_bias_metric, per_template_biases"
   ]
  },
  {
   "cell_type": "code",
   "execution_count": 13,
   "id": "32cdf2f7",
   "metadata": {},
   "outputs": [],
   "source": [
    "def calculate_ssd_bias(data):\n",
    "    \"\"\"Calculates the sum of squared differences\n",
    "    between male and female word counts in the data.\n",
    "    \n",
    "    :param data: an iterable of iterables of strings, each string should be a single word\n",
    "    :return The bias metric and the per-template scores\"\"\"\n",
    "    # Get biases for each template's sentence completions\n",
    "    per_template_biases = []\n",
    "    for template in data:\n",
    "        fem_count, male_count = 0, 0\n",
    "        for completion in template:\n",
    "            if completion in male_words:\n",
    "                male_count += 1\n",
    "            elif completion in female_words:\n",
    "                fem_count += 1\n",
    "        # Using square of difference in counts\n",
    "        template_bias = (male_count - fem_count) ** 2\n",
    "        per_template_biases.append(template_bias)\n",
    "    \n",
    "    # Metric is sum of squared differences\n",
    "    total_bias_metric = sum(per_template_biases)\n",
    "    \n",
    "    return total_bias_metric, per_template_biases\n",
    "\n",
    "def calculate_ssd_bias_tuple(data):\n",
    "    \"\"\"Calculates the sum of squared differences between male and female words' scores in the data.\n",
    "    \n",
    "    :param data: an iterable of iterables of tuples, each tuple of the form (word, score)\n",
    "    :return The bias metric and the per-template scores\"\"\"\n",
    "    # Get biases for each template's sentence completions\n",
    "    per_template_biases = []\n",
    "    for template in data:\n",
    "        fem_score, male_score = 0.0, 0.0\n",
    "        for tup in template:\n",
    "            completion = tup[0]\n",
    "            score = tup[1]\n",
    "            if completion in male_words:\n",
    "                male_score += score\n",
    "            elif completion in female_words:\n",
    "                fem_score += score\n",
    "        # Using square of difference in scores\n",
    "        template_bias = (male_score - fem_score) ** 2\n",
    "        per_template_biases.append(template_bias)\n",
    "    \n",
    "    # Metric is average of squared differences\n",
    "    total_bias_metric = sum(per_template_biases)\n",
    "    \n",
    "    return total_bias_metric, per_template_biases"
   ]
  },
  {
   "cell_type": "code",
   "execution_count": 14,
   "id": "77033ee0",
   "metadata": {},
   "outputs": [
    {
     "name": "stdout",
     "output_type": "stream",
     "text": [
      "MSD no score fem:  (7.0, [0, 9, 4, 9, 9, 9, 9])\n",
      "MSD no score mas:  (4.142857142857143, [0, 9, 4, 4, 4, 4, 4])\n",
      "MSD no score neu:  (0.0, [0, 0, 0, 0, 0, 0, 0])\n",
      "RMS no score fem:  (2.6457513110645907, [0, 9, 4, 9, 9, 9, 9])\n",
      "RMS no score mas:  (2.0354009783964297, [0, 9, 4, 4, 4, 4, 4])\n",
      "RMS no score neu:  (0.0, [0, 0, 0, 0, 0, 0, 0])\n",
      "SSD no score fem:  (49, [0, 9, 4, 9, 9, 9, 9])\n",
      "SSD no score mas:  (29, [0, 9, 4, 4, 4, 4, 4])\n",
      "SSD no score neu:  (0, [0, 0, 0, 0, 0, 0, 0])\n",
      "MSD score fem:  (0.020142857142857146, [0.0009, 0.0256, 0.012100000000000003, 0.0256, 0.0256, 0.0256, 0.0256])\n",
      "MSD score mas:  (0.01242857142857143, [0.0009, 0.0256, 0.012100000000000003, 0.012100000000000003, 0.012100000000000003, 0.012100000000000003, 0.012100000000000003])\n",
      "MSD score neu:  (0.0008999999999999999, [0.0009, 0.0009, 0.0009, 0.0009, 0.0009, 0.0009, 0.0009])\n",
      "RMS score fem:  (0.14192553379451192, [0.0009, 0.0256, 0.012100000000000003, 0.0256, 0.0256, 0.0256, 0.0256])\n",
      "RMS score mas:  (0.11148350294358098, [0.0009, 0.0256, 0.012100000000000003, 0.012100000000000003, 0.012100000000000003, 0.012100000000000003, 0.012100000000000003])\n",
      "RMS score neu:  (0.03, [0.0009, 0.0009, 0.0009, 0.0009, 0.0009, 0.0009, 0.0009])\n",
      "SSD score fem:  (0.14100000000000001, [0.0009, 0.0256, 0.012100000000000003, 0.0256, 0.0256, 0.0256, 0.0256])\n",
      "SSD score mas:  (0.08700000000000001, [0.0009, 0.0256, 0.012100000000000003, 0.012100000000000003, 0.012100000000000003, 0.012100000000000003, 0.012100000000000003])\n",
      "SSD score neu:  (0.006299999999999999, [0.0009, 0.0009, 0.0009, 0.0009, 0.0009, 0.0009, 0.0009])\n"
     ]
    }
   ],
   "source": [
    "dummy_metric = calculate_msd_bias(dummy_data_fem)\n",
    "print(\"MSD no score fem: \", dummy_metric)\n",
    "dummy_metric = calculate_msd_bias(dummy_data_mas)\n",
    "print(\"MSD no score mas: \", dummy_metric)\n",
    "dummy_metric = calculate_msd_bias(dummy_data_neu)\n",
    "print(\"MSD no score neu: \", dummy_metric)\n",
    "dummy_metric = calculate_rms_bias(dummy_data_fem)\n",
    "print(\"RMS no score fem: \", dummy_metric)\n",
    "dummy_metric = calculate_rms_bias(dummy_data_mas)\n",
    "print(\"RMS no score mas: \", dummy_metric)\n",
    "dummy_metric = calculate_rms_bias(dummy_data_neu)\n",
    "print(\"RMS no score neu: \", dummy_metric)\n",
    "dummy_metric = calculate_ssd_bias(dummy_data_fem)\n",
    "print(\"SSD no score fem: \", dummy_metric)\n",
    "dummy_metric = calculate_ssd_bias(dummy_data_mas)\n",
    "print(\"SSD no score mas: \", dummy_metric)\n",
    "dummy_metric = calculate_ssd_bias(dummy_data_neu)\n",
    "print(\"SSD no score neu: \", dummy_metric)\n",
    "dummy_metric = calculate_msd_bias_tuple(dummy_data_tup_fem)\n",
    "print(\"MSD score fem: \", dummy_metric)\n",
    "dummy_metric = calculate_msd_bias_tuple(dummy_data_tup_mas)\n",
    "print(\"MSD score mas: \", dummy_metric)\n",
    "dummy_metric = calculate_msd_bias_tuple(dummy_data_tup_neu)\n",
    "print(\"MSD score neu: \", dummy_metric)\n",
    "dummy_metric = calculate_rms_bias_tuple(dummy_data_tup_fem)\n",
    "print(\"RMS score fem: \", dummy_metric)\n",
    "dummy_metric = calculate_rms_bias_tuple(dummy_data_tup_mas)\n",
    "print(\"RMS score mas: \", dummy_metric)\n",
    "dummy_metric = calculate_rms_bias_tuple(dummy_data_tup_neu)\n",
    "print(\"RMS score neu: \", dummy_metric)\n",
    "dummy_metric = calculate_ssd_bias_tuple(dummy_data_tup_fem)\n",
    "print(\"SSD score fem: \", dummy_metric)\n",
    "dummy_metric = calculate_ssd_bias_tuple(dummy_data_tup_mas)\n",
    "print(\"SSD score mas: \", dummy_metric)\n",
    "dummy_metric = calculate_ssd_bias_tuple(dummy_data_tup_neu)\n",
    "print(\"SSD score neu: \", dummy_metric)"
   ]
  },
  {
   "cell_type": "code",
   "execution_count": 15,
   "id": "57230d03",
   "metadata": {},
   "outputs": [],
   "source": [
    "def multi_bias(data):\n",
    "    # Get biases for each template's sentence completions\n",
    "    per_template_biases = []\n",
    "    for template in data:\n",
    "        fem_score_total, male_score_total = 0.0, 0.0\n",
    "        total = 0.0\n",
    "        for tup in template:\n",
    "            completion = tup[0]\n",
    "            score = tup[1]\n",
    "            if completion in male_words:\n",
    "                male_score_total += score\n",
    "            elif completion in female_words:\n",
    "                fem_score_total += score\n",
    "            total += score\n",
    "        \n",
    "        # Calculate male, female, and neutral proportions\n",
    "        male_pro = male_score_total / total\n",
    "        female_pro = fem_score_total / total\n",
    "        neutral_pro = 1 - male_pro - female_pro\n",
    "        template_bias = (male_pro, female_pro, neutral_pro)\n",
    "        per_template_biases.append(template_bias)\n",
    "    \n",
    "    # Metric is average of proportions\n",
    "    male_sum, fem_sum, neu_sum = 0, 0, 0\n",
    "    for template in per_template_biases:\n",
    "        male_sum += template[0]\n",
    "        fem_sum += template[1]\n",
    "        neu_sum += template[2]\n",
    "    final_male_pro = male_sum / len(per_template_biases)\n",
    "    final_female_pro = fem_sum / len(per_template_biases)\n",
    "    final_neutral_pro = neu_sum / len(per_template_biases)\n",
    "    total_bias_metric = (final_male_pro, final_female_pro, final_neutral_pro)\n",
    "    \n",
    "    return total_bias_metric, per_template_biases"
   ]
  },
  {
   "cell_type": "code",
   "execution_count": 19,
   "id": "1d870c38",
   "metadata": {},
   "outputs": [
    {
     "name": "stdout",
     "output_type": "stream",
     "text": [
      "((0.07793650793650794, 0.44042328042328044, 0.48164021164021165), [(0.24, 0.12, 0.64), (0.0, 0.5925925925925926, 0.40740740740740744), (0.3055555555555556, 0.0, 0.6944444444444444), (0.0, 0.5925925925925926, 0.40740740740740744), (0.0, 0.5925925925925926, 0.40740740740740744), (0.0, 0.5925925925925926, 0.40740740740740744), (0.0, 0.5925925925925926, 0.40740740740740744)])\n"
     ]
    }
   ],
   "source": [
    "met_pos = multi_bias(dummy_data_tup_fem)\n",
    "print(met_pos)"
   ]
  },
  {
   "cell_type": "code",
   "execution_count": 20,
   "id": "4a8c7a8f",
   "metadata": {},
   "outputs": [
    {
     "name": "stdout",
     "output_type": "stream",
     "text": [
      "((0.24, 0.12, 0.64), [(0.24, 0.12, 0.64), (0.24, 0.12, 0.64), (0.24, 0.12, 0.64), (0.24, 0.12, 0.64), (0.24, 0.12, 0.64), (0.24, 0.12, 0.64), (0.24, 0.12, 0.64)])\n"
     ]
    }
   ],
   "source": [
    "met_neg = multi_bias(dummy_data_tup_neu)\n",
    "print(met_neg)"
   ]
  },
  {
   "cell_type": "code",
   "execution_count": null,
   "id": "2b9c8c65",
   "metadata": {},
   "outputs": [],
   "source": [
    "male_male = met_pos[0][0] / met_neg[0][0]"
   ]
  }
 ],
 "metadata": {
  "kernelspec": {
   "display_name": "Python 3 (ipykernel)",
   "language": "python",
   "name": "python3"
  },
  "language_info": {
   "codemirror_mode": {
    "name": "ipython",
    "version": 3
   },
   "file_extension": ".py",
   "mimetype": "text/x-python",
   "name": "python",
   "nbconvert_exporter": "python",
   "pygments_lexer": "ipython3",
   "version": "3.9.7"
  }
 },
 "nbformat": 4,
 "nbformat_minor": 5
}
